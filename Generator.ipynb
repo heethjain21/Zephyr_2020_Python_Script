{
 "cells": [
  {
   "cell_type": "code",
   "execution_count": 2,
   "metadata": {},
   "outputs": [],
   "source": [
    "# We are using PIL library for this\n",
    "from PIL import Image\n",
    "from PIL import ImageFont\n",
    "from PIL import ImageDraw \n",
    "import csv"
   ]
  },
  {
   "cell_type": "code",
   "execution_count": 7,
   "metadata": {},
   "outputs": [],
   "source": [
    "# This function is to calculate the starting and ending dimensions of the text's location\n",
    "# With this, the font will be centre aligned from the location where it has been specified\n",
    "def addOnImage(name, font_color, W, H, font, draw):\n",
    "    w, h = draw.textsize(name, font)\n",
    "    draw.text(((W-w)/2,(H-h)/2), name, font_color, font=font)\n",
    "\n",
    "# Open Image file\n",
    "img = Image.open(\"filepath\\\\filename.filetype\")\n",
    "# Convert the image is RGB mode, it might be in some other format, so this is needed\n",
    "img = img.convert(\"RGB\")\n",
    "\n",
    "# Create \"draw\" object to\n",
    "draw = ImageDraw.Draw(img)\n",
    "\n",
    "reg_name = \"FirstName LastName\"\n",
    "reg_id = \"CMXXX\"\n",
    "\n",
    "# The font style we want to use in \".ttf\" format along with font size\n",
    "font = ImageFont.truetype(\"fontname.ttf\", 37)\n",
    "# Font colour of the text\n",
    "font_color = (255, 255, 255)\n",
    "\n",
    "# Locations of the text \"name\" and \"id\" respectively\n",
    "name_x, name_y = 3575, 950\n",
    "id_x, id_y = 3575, 1080\n",
    "\n",
    "# Add name in the image\n",
    "addOnImage(reg_name, font_color, name_x, name_y, font, draw)\n",
    "# Add id on the image\n",
    "addOnImage(\"ID: \" + reg_id, font_color, id_x, id_y, font, draw)\n",
    "\n",
    "# Location where we wish to save the file\n",
    "file_save_path = \"filepath\\\\filetype.pdf\"\n",
    "\n",
    "# Save the file as pdf\n",
    "img.save(file_save_path, \"PDF\", resolution=100.0)"
   ]
  },
  {
   "cell_type": "code",
   "execution_count": 2,
   "metadata": {},
   "outputs": [],
   "source": [
    "from PIL import Image\n",
    "# Open Image file\n",
    "img = Image.open(\"filepath\\\\filename.filetype\")\n",
    "# Convert the image is RGB mode, it might be in some other format, so this is needed\n",
    "img = img.convert(\"RGB\")\n",
    "file_save_path = \"filepath\\\\filename.pdf\"\n",
    "# Save the file as pdf\n",
    "img.save(file_save_path, \"PDF\", resolution=100.0)"
   ]
  }
 ],
 "metadata": {
  "kernelspec": {
   "display_name": "Python 3 (ipykernel)",
   "language": "python",
   "name": "python3"
  },
  "language_info": {
   "codemirror_mode": {
    "name": "ipython",
    "version": 3
   },
   "file_extension": ".py",
   "mimetype": "text/x-python",
   "name": "python",
   "nbconvert_exporter": "python",
   "pygments_lexer": "ipython3",
   "version": "3.8.10"
  }
 },
 "nbformat": 4,
 "nbformat_minor": 4
}
